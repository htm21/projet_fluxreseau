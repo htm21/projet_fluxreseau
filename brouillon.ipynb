{
 "cells": [
  {
   "cell_type": "code",
   "execution_count": 1,
   "metadata": {},
   "outputs": [
    {
     "name": "stdout",
     "output_type": "stream",
     "text": [
      "[6, 8920, 1, 167371]\n",
      "6\n",
      "[8920, 1, 167371]\n",
      "8920\n",
      "[1, 167371]\n",
      "1\n",
      "[167371]\n",
      "167371\n",
      "[]\n"
     ]
    }
   ],
   "source": [
    "class Buffer() :\n",
    "    def __init__(self) : \n",
    "        self.file = []\n",
    "        self.capacity = 10      # Comme ce buffer est de capacité finie, notée C ici je prends 10 pour l'exemple\n",
    "        self.number_element = 0\n",
    "    \n",
    "    def enfiler(self, paquet) :\n",
    "        if self.number_element < self.capacity :\n",
    "            self.file.append(paquet)\n",
    "            self.number_element += 1\n",
    "\n",
    "    def defiler(self) :\n",
    "        if self.number_element > 0 :\n",
    "            element = self.file.pop(0)       \n",
    "        return element\n",
    "\n",
    "    def afficher_file(self):\n",
    "        return self.file\n",
    "\n",
    "\n",
    "file1 = Buffer()\n",
    "\n",
    "file1.afficher_file()\n",
    "file1.enfiler(6)\n",
    "file1.enfiler(8920)\n",
    "file1.enfiler(1)\n",
    "file1.enfiler(167371)\n",
    "\n",
    "\n",
    "print(file1.afficher_file())\n",
    "print(file1.defiler())\n",
    "print(file1.afficher_file())\n",
    "print(file1.defiler())\n",
    "print(file1.afficher_file())\n",
    "print(file1.defiler())\n",
    "print(file1.afficher_file())\n",
    "print(file1.defiler())\n",
    "print(file1.afficher_file())"
   ]
  },
  {
   "cell_type": "code",
   "execution_count": 199,
   "metadata": {},
   "outputs": [
    {
     "data": {
      "text/plain": [
       "'-'"
      ]
     },
     "execution_count": 199,
     "metadata": {},
     "output_type": "execute_result"
    }
   ],
   "source": [
    "import random \n",
    "class Paquet():\n",
    "    def __init__(self):\n",
    "        self.symboles = [\"&\",\"@\",\"#\",\"*\",\"$\",\"€\",\"£\",\"%\",\"°\",\"-\",\"!\",\"?\"]\n",
    "\n",
    "    def get_paquet(self):\n",
    "        return self.symboles[random.randint(0,11)]\n",
    "\n",
    "p1 = Paquet()\n",
    "\n",
    "p1.get_paquet()"
   ]
  },
  {
   "cell_type": "code",
   "execution_count": null,
   "metadata": {},
   "outputs": [],
   "source": [
    "# SOurce -> envoie des paquets à des temps donnée \n",
    "\n",
    "# paquet -> donnée \"c\" que l'on transmait avec la source à travers buffer vers une arrivée \n",
    "\n",
    "#buffer -> file\n",
    "\n"
   ]
  }
 ],
 "metadata": {
  "kernelspec": {
   "display_name": "Python 3",
   "language": "python",
   "name": "python3"
  },
  "language_info": {
   "codemirror_mode": {
    "name": "ipython",
    "version": 3
   },
   "file_extension": ".py",
   "mimetype": "text/x-python",
   "name": "python",
   "nbconvert_exporter": "python",
   "pygments_lexer": "ipython3",
   "version": "3.10.6"
  }
 },
 "nbformat": 4,
 "nbformat_minor": 2
}
